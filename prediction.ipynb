{
 "cells": [
  {
   "cell_type": "code",
   "execution_count": 1,
   "metadata": {},
   "outputs": [],
   "source": [
    "#Step1 Load all the libraries and load the model\n",
    "\n",
    "import numpy as np\n",
    "import tensorflow as tf\n",
    "from tensorflow.keras.datasets import imdb\n",
    "from tensorflow.keras.preprocessing import sequence\n",
    "from tensorflow.keras.models import load_model\n",
    "\n"
   ]
  },
  {
   "cell_type": "code",
   "execution_count": 2,
   "metadata": {},
   "outputs": [],
   "source": [
    "#Load the IMDB data set word index\n",
    "word_index = imdb.get_word_index()\n",
    "reverse_word_index = {value:key for key,value in word_index.items()}"
   ]
  },
  {
   "cell_type": "code",
   "execution_count": 3,
   "metadata": {},
   "outputs": [
    {
     "name": "stderr",
     "output_type": "stream",
     "text": [
      "WARNING:absl:Compiled the loaded model, but the compiled metrics have yet to be built. `model.compile_metrics` will be empty until you train or evaluate the model.\n"
     ]
    },
    {
     "data": {
      "text/html": [
       "<pre style=\"white-space:pre;overflow-x:auto;line-height:normal;font-family:Menlo,'DejaVu Sans Mono',consolas,'Courier New',monospace\"><span style=\"font-weight: bold\">Model: \"sequential_2\"</span>\n",
       "</pre>\n"
      ],
      "text/plain": [
       "\u001b[1mModel: \"sequential_2\"\u001b[0m\n"
      ]
     },
     "metadata": {},
     "output_type": "display_data"
    },
    {
     "data": {
      "text/html": [
       "<pre style=\"white-space:pre;overflow-x:auto;line-height:normal;font-family:Menlo,'DejaVu Sans Mono',consolas,'Courier New',monospace\">┏━━━━━━━━━━━━━━━━━━━━━━━━━━━━━━━━━┳━━━━━━━━━━━━━━━━━━━━━━━━┳━━━━━━━━━━━━━━━┓\n",
       "┃<span style=\"font-weight: bold\"> Layer (type)                    </span>┃<span style=\"font-weight: bold\"> Output Shape           </span>┃<span style=\"font-weight: bold\">       Param # </span>┃\n",
       "┡━━━━━━━━━━━━━━━━━━━━━━━━━━━━━━━━━╇━━━━━━━━━━━━━━━━━━━━━━━━╇━━━━━━━━━━━━━━━┩\n",
       "│ embedding_2 (<span style=\"color: #0087ff; text-decoration-color: #0087ff\">Embedding</span>)         │ (<span style=\"color: #00d7ff; text-decoration-color: #00d7ff\">None</span>, <span style=\"color: #00af00; text-decoration-color: #00af00\">500</span>, <span style=\"color: #00af00; text-decoration-color: #00af00\">128</span>)       │     <span style=\"color: #00af00; text-decoration-color: #00af00\">1,280,000</span> │\n",
       "├─────────────────────────────────┼────────────────────────┼───────────────┤\n",
       "│ simple_rnn (<span style=\"color: #0087ff; text-decoration-color: #0087ff\">SimpleRNN</span>)          │ (<span style=\"color: #00d7ff; text-decoration-color: #00d7ff\">None</span>, <span style=\"color: #00af00; text-decoration-color: #00af00\">128</span>)            │        <span style=\"color: #00af00; text-decoration-color: #00af00\">32,896</span> │\n",
       "├─────────────────────────────────┼────────────────────────┼───────────────┤\n",
       "│ dense (<span style=\"color: #0087ff; text-decoration-color: #0087ff\">Dense</span>)                   │ (<span style=\"color: #00d7ff; text-decoration-color: #00d7ff\">None</span>, <span style=\"color: #00af00; text-decoration-color: #00af00\">1</span>)              │           <span style=\"color: #00af00; text-decoration-color: #00af00\">129</span> │\n",
       "└─────────────────────────────────┴────────────────────────┴───────────────┘\n",
       "</pre>\n"
      ],
      "text/plain": [
       "┏━━━━━━━━━━━━━━━━━━━━━━━━━━━━━━━━━┳━━━━━━━━━━━━━━━━━━━━━━━━┳━━━━━━━━━━━━━━━┓\n",
       "┃\u001b[1m \u001b[0m\u001b[1mLayer (type)                   \u001b[0m\u001b[1m \u001b[0m┃\u001b[1m \u001b[0m\u001b[1mOutput Shape          \u001b[0m\u001b[1m \u001b[0m┃\u001b[1m \u001b[0m\u001b[1m      Param #\u001b[0m\u001b[1m \u001b[0m┃\n",
       "┡━━━━━━━━━━━━━━━━━━━━━━━━━━━━━━━━━╇━━━━━━━━━━━━━━━━━━━━━━━━╇━━━━━━━━━━━━━━━┩\n",
       "│ embedding_2 (\u001b[38;5;33mEmbedding\u001b[0m)         │ (\u001b[38;5;45mNone\u001b[0m, \u001b[38;5;34m500\u001b[0m, \u001b[38;5;34m128\u001b[0m)       │     \u001b[38;5;34m1,280,000\u001b[0m │\n",
       "├─────────────────────────────────┼────────────────────────┼───────────────┤\n",
       "│ simple_rnn (\u001b[38;5;33mSimpleRNN\u001b[0m)          │ (\u001b[38;5;45mNone\u001b[0m, \u001b[38;5;34m128\u001b[0m)            │        \u001b[38;5;34m32,896\u001b[0m │\n",
       "├─────────────────────────────────┼────────────────────────┼───────────────┤\n",
       "│ dense (\u001b[38;5;33mDense\u001b[0m)                   │ (\u001b[38;5;45mNone\u001b[0m, \u001b[38;5;34m1\u001b[0m)              │           \u001b[38;5;34m129\u001b[0m │\n",
       "└─────────────────────────────────┴────────────────────────┴───────────────┘\n"
      ]
     },
     "metadata": {},
     "output_type": "display_data"
    },
    {
     "data": {
      "text/html": [
       "<pre style=\"white-space:pre;overflow-x:auto;line-height:normal;font-family:Menlo,'DejaVu Sans Mono',consolas,'Courier New',monospace\"><span style=\"font-weight: bold\"> Total params: </span><span style=\"color: #00af00; text-decoration-color: #00af00\">1,313,027</span> (5.01 MB)\n",
       "</pre>\n"
      ],
      "text/plain": [
       "\u001b[1m Total params: \u001b[0m\u001b[38;5;34m1,313,027\u001b[0m (5.01 MB)\n"
      ]
     },
     "metadata": {},
     "output_type": "display_data"
    },
    {
     "data": {
      "text/html": [
       "<pre style=\"white-space:pre;overflow-x:auto;line-height:normal;font-family:Menlo,'DejaVu Sans Mono',consolas,'Courier New',monospace\"><span style=\"font-weight: bold\"> Trainable params: </span><span style=\"color: #00af00; text-decoration-color: #00af00\">1,313,025</span> (5.01 MB)\n",
       "</pre>\n"
      ],
      "text/plain": [
       "\u001b[1m Trainable params: \u001b[0m\u001b[38;5;34m1,313,025\u001b[0m (5.01 MB)\n"
      ]
     },
     "metadata": {},
     "output_type": "display_data"
    },
    {
     "data": {
      "text/html": [
       "<pre style=\"white-space:pre;overflow-x:auto;line-height:normal;font-family:Menlo,'DejaVu Sans Mono',consolas,'Courier New',monospace\"><span style=\"font-weight: bold\"> Non-trainable params: </span><span style=\"color: #00af00; text-decoration-color: #00af00\">0</span> (0.00 B)\n",
       "</pre>\n"
      ],
      "text/plain": [
       "\u001b[1m Non-trainable params: \u001b[0m\u001b[38;5;34m0\u001b[0m (0.00 B)\n"
      ]
     },
     "metadata": {},
     "output_type": "display_data"
    },
    {
     "data": {
      "text/html": [
       "<pre style=\"white-space:pre;overflow-x:auto;line-height:normal;font-family:Menlo,'DejaVu Sans Mono',consolas,'Courier New',monospace\"><span style=\"font-weight: bold\"> Optimizer params: </span><span style=\"color: #00af00; text-decoration-color: #00af00\">2</span> (12.00 B)\n",
       "</pre>\n"
      ],
      "text/plain": [
       "\u001b[1m Optimizer params: \u001b[0m\u001b[38;5;34m2\u001b[0m (12.00 B)\n"
      ]
     },
     "metadata": {},
     "output_type": "display_data"
    }
   ],
   "source": [
    "#load the pre-trained model with ReLU activation function\n",
    "model = load_model('simple_rnn_imdeb.h5')\n",
    "model.summary()"
   ]
  },
  {
   "cell_type": "code",
   "execution_count": 4,
   "metadata": {},
   "outputs": [
    {
     "data": {
      "text/plain": [
       "[array([[ 0.08292907,  0.08405802, -0.11966345, ...,  0.00585743,\n",
       "         -0.19471934, -0.14994985],\n",
       "        [ 0.00375876, -0.03277706,  0.02935833, ...,  0.02660461,\n",
       "          0.00308044, -0.06245785],\n",
       "        [ 0.13505234,  0.05735233, -0.01344966, ..., -0.01028088,\n",
       "          0.02212981,  0.11761674],\n",
       "        ...,\n",
       "        [-0.02535908,  0.02954977,  0.0688683 , ..., -0.09262929,\n",
       "         -0.03668625, -0.06745622],\n",
       "        [ 0.06758326,  0.01977935,  0.05817121, ...,  0.0190273 ,\n",
       "         -0.01068834, -0.01689031],\n",
       "        [-0.16640458,  0.04687536, -0.11041746, ..., -0.04140678,\n",
       "         -0.03715802, -0.09840955]], dtype=float32),\n",
       " array([[ 0.05608575, -0.10292041,  0.15634973, ...,  0.10512471,\n",
       "          0.00232538, -0.02143089],\n",
       "        [-0.16897611,  0.01348576,  0.12637027, ..., -0.04206781,\n",
       "         -0.06895998,  0.08920897],\n",
       "        [ 0.00828997, -0.01833713,  0.0876407 , ...,  0.19434808,\n",
       "          0.17066287, -0.02421899],\n",
       "        ...,\n",
       "        [-0.08537757,  0.11016005,  0.06246445, ...,  0.1446872 ,\n",
       "          0.03062483, -0.08420713],\n",
       "        [-0.0006902 ,  0.13923365,  0.07581877, ...,  0.10242587,\n",
       "         -0.00980487, -0.12243471],\n",
       "        [-0.05299453,  0.04449777,  0.04272248, ..., -0.13215765,\n",
       "          0.09841721,  0.01021174]], dtype=float32),\n",
       " array([[-0.11567664, -0.07187186,  0.00041187, ..., -0.07390747,\n",
       "          0.02009454, -0.11161898],\n",
       "        [ 0.07209438, -0.00851058,  0.08538913, ...,  0.0203829 ,\n",
       "         -0.04184335, -0.08314211],\n",
       "        [-0.08613122, -0.01472728, -0.1295504 , ..., -0.04207998,\n",
       "          0.01223006, -0.06520046],\n",
       "        ...,\n",
       "        [-0.06656967, -0.17065457, -0.0994356 , ..., -0.07723253,\n",
       "         -0.1158795 , -0.14945874],\n",
       "        [ 0.06622344,  0.04142476,  0.10621768, ...,  0.0138286 ,\n",
       "         -0.04887541,  0.1250691 ],\n",
       "        [-0.06947991,  0.02242187, -0.04910833, ...,  0.01059602,\n",
       "          0.04012273, -0.01062934]], dtype=float32),\n",
       " array([-0.01732586,  0.02115432, -0.00263545,  0.01280418, -0.00781501,\n",
       "        -0.01524826, -0.01647548, -0.025167  ,  0.02006088,  0.02594129,\n",
       "        -0.03414581, -0.00119265, -0.00044611,  0.02308705, -0.01743305,\n",
       "         0.01822839, -0.00472733, -0.02152752, -0.01295038, -0.03113461,\n",
       "         0.02252508, -0.00715695, -0.01526595,  0.03127215, -0.00923599,\n",
       "         0.02942252,  0.01923544, -0.02687741, -0.0266238 ,  0.0139762 ,\n",
       "        -0.01889433,  0.00203781, -0.05256552, -0.02077052, -0.03383091,\n",
       "        -0.0158689 , -0.0251581 , -0.02611376,  0.01877403, -0.01353255,\n",
       "        -0.03846051, -0.00885223, -0.04427841, -0.01689659, -0.01805597,\n",
       "         0.01116441,  0.02118284, -0.01952399, -0.01404312, -0.01961242,\n",
       "         0.00282763,  0.01879671, -0.0060778 , -0.00909501, -0.01868238,\n",
       "         0.00569498,  0.01014663,  0.0229482 ,  0.00843133,  0.0004992 ,\n",
       "        -0.03191454, -0.02617941,  0.02186239,  0.01264359, -0.01487258,\n",
       "        -0.0492894 , -0.01620443,  0.01345996,  0.01506243, -0.05284971,\n",
       "        -0.02799688,  0.02271454,  0.00156605, -0.04079377, -0.00356114,\n",
       "         0.01541643, -0.01959502,  0.01380035, -0.0229482 ,  0.02026368,\n",
       "        -0.00439708,  0.02670431, -0.03228317, -0.02608733, -0.00507374,\n",
       "        -0.05216036,  0.03835082, -0.0006603 , -0.02688333,  0.0208167 ,\n",
       "         0.00848414, -0.01402133,  0.00646262, -0.00070364,  0.02653874,\n",
       "         0.00538648,  0.01786531,  0.00592591,  0.00745084, -0.03379769,\n",
       "        -0.00089153, -0.01561865, -0.01393246,  0.01935403, -0.01758902,\n",
       "        -0.01691661, -0.02354397, -0.0156819 ,  0.01576838, -0.02824777,\n",
       "         0.02667394,  0.02030682,  0.03790452,  0.03591277,  0.02465352,\n",
       "         0.00023859,  0.00143001,  0.03333684, -0.03728168,  0.02557442,\n",
       "        -0.03071751, -0.0057568 , -0.019303  , -0.03469187, -0.02848187,\n",
       "        -0.02274378, -0.02649792, -0.00127141], dtype=float32),\n",
       " array([[-1.08988404e-01],\n",
       "        [-1.57202378e-01],\n",
       "        [-1.20660223e-01],\n",
       "        [ 4.73271199e-02],\n",
       "        [ 8.00588354e-02],\n",
       "        [-1.35863736e-01],\n",
       "        [ 8.00367966e-02],\n",
       "        [ 4.01267633e-02],\n",
       "        [ 3.73840295e-02],\n",
       "        [-1.12678595e-01],\n",
       "        [ 2.84308821e-01],\n",
       "        [-1.79952592e-01],\n",
       "        [ 1.42732829e-01],\n",
       "        [-4.13571484e-02],\n",
       "        [ 1.42742023e-01],\n",
       "        [ 1.75107598e-01],\n",
       "        [-1.29682630e-01],\n",
       "        [ 1.16060503e-01],\n",
       "        [ 1.76415056e-01],\n",
       "        [-1.30613610e-01],\n",
       "        [-1.42538592e-01],\n",
       "        [ 2.33239904e-01],\n",
       "        [ 1.99870095e-01],\n",
       "        [-1.33331791e-01],\n",
       "        [-2.91677117e-02],\n",
       "        [-1.01969488e-01],\n",
       "        [ 1.21892631e-01],\n",
       "        [-1.52515029e-04],\n",
       "        [ 5.13742939e-02],\n",
       "        [ 1.79655880e-01],\n",
       "        [ 1.54793501e-01],\n",
       "        [ 5.06275408e-02],\n",
       "        [-5.58934920e-03],\n",
       "        [ 1.68261796e-01],\n",
       "        [-1.36307091e-01],\n",
       "        [ 2.70645171e-01],\n",
       "        [ 1.57216892e-01],\n",
       "        [ 1.09375820e-01],\n",
       "        [-1.53557435e-01],\n",
       "        [ 7.44407922e-02],\n",
       "        [ 1.56350791e-01],\n",
       "        [ 1.33677423e-01],\n",
       "        [-5.10280505e-02],\n",
       "        [-2.65123039e-01],\n",
       "        [ 1.58464938e-01],\n",
       "        [ 9.61804613e-02],\n",
       "        [ 2.11506620e-01],\n",
       "        [-9.79243740e-02],\n",
       "        [ 1.42861353e-02],\n",
       "        [ 9.87396836e-02],\n",
       "        [ 2.04930484e-01],\n",
       "        [ 1.05696626e-01],\n",
       "        [-2.10319698e-01],\n",
       "        [ 1.01395816e-01],\n",
       "        [ 9.20218229e-02],\n",
       "        [ 6.13647476e-02],\n",
       "        [-1.33356065e-01],\n",
       "        [ 1.98271006e-01],\n",
       "        [ 9.44762975e-02],\n",
       "        [ 2.12480396e-01],\n",
       "        [ 2.79283911e-01],\n",
       "        [-1.59762517e-01],\n",
       "        [-2.06617549e-01],\n",
       "        [ 1.93620816e-01],\n",
       "        [-4.47922386e-02],\n",
       "        [ 7.36611411e-02],\n",
       "        [ 2.25892544e-01],\n",
       "        [ 1.32276326e-01],\n",
       "        [ 1.09027714e-01],\n",
       "        [-6.59386963e-02],\n",
       "        [ 3.76009271e-02],\n",
       "        [-1.34984940e-01],\n",
       "        [ 1.17206104e-01],\n",
       "        [ 4.93660942e-02],\n",
       "        [ 1.39989614e-01],\n",
       "        [-2.66704429e-02],\n",
       "        [-1.91890687e-01],\n",
       "        [ 1.27711281e-01],\n",
       "        [ 1.56271920e-01],\n",
       "        [-3.44354510e-02],\n",
       "        [ 1.19871609e-01],\n",
       "        [ 2.81963259e-01],\n",
       "        [ 8.73930193e-03],\n",
       "        [-1.50082722e-01],\n",
       "        [ 1.01799905e-01],\n",
       "        [-1.47429267e-02],\n",
       "        [-1.24077976e-01],\n",
       "        [ 2.05635518e-01],\n",
       "        [ 3.60328197e-01],\n",
       "        [ 1.93270277e-02],\n",
       "        [ 1.85589939e-01],\n",
       "        [ 1.02237105e-01],\n",
       "        [-8.93761665e-02],\n",
       "        [-3.75495665e-02],\n",
       "        [-2.65563101e-01],\n",
       "        [ 4.20404859e-02],\n",
       "        [ 8.89933631e-02],\n",
       "        [ 9.11765993e-02],\n",
       "        [ 1.02418534e-01],\n",
       "        [ 5.34270592e-02],\n",
       "        [-6.09118417e-02],\n",
       "        [ 1.72335997e-01],\n",
       "        [ 2.72552133e-01],\n",
       "        [-8.41408446e-02],\n",
       "        [-1.10987060e-01],\n",
       "        [-2.81988412e-01],\n",
       "        [-1.11949421e-01],\n",
       "        [-2.55392611e-01],\n",
       "        [-2.05936044e-01],\n",
       "        [ 2.39507839e-01],\n",
       "        [ 8.13110694e-02],\n",
       "        [ 2.58291394e-01],\n",
       "        [-1.15349606e-01],\n",
       "        [ 3.64783525e-01],\n",
       "        [ 3.88775915e-02],\n",
       "        [-1.41992932e-02],\n",
       "        [ 2.41664410e-01],\n",
       "        [ 2.95178503e-01],\n",
       "        [ 2.36928493e-01],\n",
       "        [-4.55993339e-02],\n",
       "        [ 5.56380562e-02],\n",
       "        [-1.21819437e-01],\n",
       "        [ 1.88734367e-01],\n",
       "        [ 2.47590303e-01],\n",
       "        [ 8.43584761e-02],\n",
       "        [-1.04217101e-02],\n",
       "        [-1.83937535e-01],\n",
       "        [-1.50668010e-01]], dtype=float32),\n",
       " array([0.37081152], dtype=float32)]"
      ]
     },
     "execution_count": 4,
     "metadata": {},
     "output_type": "execute_result"
    }
   ],
   "source": [
    "model.get_weights()"
   ]
  },
  {
   "cell_type": "code",
   "execution_count": 5,
   "metadata": {},
   "outputs": [],
   "source": [
    "#Step2 Helper functions\n",
    "#Function to decode reviews\n",
    "def decode_review(encoded_review):\n",
    "    return ' '.join([reverse_word_index.get(i-3, '?') for i in sample_review])\n",
    "\n",
    "#Function to preprocess user input\n",
    "\n",
    "def preprocess_text(text):\n",
    "    words = text.lower().split()\n",
    "    encoded_review = [word_index.get(word,2) + 3 for word in words]\n",
    "    padded_review = sequence.pad_sequences([encoded_review],maxlen=500)\n",
    "    return padded_review"
   ]
  },
  {
   "cell_type": "code",
   "execution_count": 6,
   "metadata": {},
   "outputs": [],
   "source": [
    "## Prediction function\n",
    "\n",
    "def predict_sentiment(review):\n",
    "    preprocessed_input = preprocess_text(review)\n",
    "\n",
    "    prediction = model.predict(preprocessed_input)\n",
    "    sentiment = 'Positive' if prediction[0][0] > 0.5 else 'Negative'\n",
    "\n",
    "    return sentiment, prediction[0][0] "
   ]
  },
  {
   "cell_type": "code",
   "execution_count": 7,
   "metadata": {},
   "outputs": [
    {
     "name": "stdout",
     "output_type": "stream",
     "text": [
      "\u001b[1m1/1\u001b[0m \u001b[32m━━━━━━━━━━━━━━━━━━━━\u001b[0m\u001b[37m\u001b[0m \u001b[1m0s\u001b[0m 133ms/step\n",
      "Review: This movie was fantastic! The acting was great and the plot for thrilling\n",
      "Sentiment: Positive\n",
      "Prediction_score: 0.9740757346153259\n"
     ]
    }
   ],
   "source": [
    "#Step3 User input and Prediction\n",
    "\n",
    "#Example review for prediction\n",
    "\n",
    "example_review = \"This movie was fantastic! The acting was great and the plot for thrilling\"\n",
    "\n",
    "sentiment,score = predict_sentiment(example_review)\n",
    "\n",
    "print(f'Review: {example_review}')\n",
    "print(f'Sentiment: {sentiment}')\n",
    "print(f'Prediction_score: {score}')\n",
    "\n"
   ]
  }
 ],
 "metadata": {
  "kernelspec": {
   "display_name": "Python 3",
   "language": "python",
   "name": "python3"
  },
  "language_info": {
   "codemirror_mode": {
    "name": "ipython",
    "version": 3
   },
   "file_extension": ".py",
   "mimetype": "text/x-python",
   "name": "python",
   "nbconvert_exporter": "python",
   "pygments_lexer": "ipython3",
   "version": "3.11.9"
  }
 },
 "nbformat": 4,
 "nbformat_minor": 2
}
